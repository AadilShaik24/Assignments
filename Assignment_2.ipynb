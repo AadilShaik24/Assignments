{
 "cells": [
  {
   "cell_type": "markdown",
   "id": "a5673b7c",
   "metadata": {},
   "source": [
    "1) two values of boolean data type are \"true\" and \"false\". they can be written as True and False, first letter should be capital "
   ]
  },
  {
   "cell_type": "markdown",
   "id": "f353ac42",
   "metadata": {},
   "source": [
    "2) AND , OR and NOT "
   ]
  },
  {
   "cell_type": "raw",
   "id": "03b2c142",
   "metadata": {},
   "source": [
    "3)a) AND truth table\n",
    "\n",
    "A        B       A and B\n",
    "\n",
    "TRUE    TRUE       TRUE\n",
    "TRUE    FALSE      FALSE\n",
    "FALSE   TRUE       FALSE\n",
    "FALSE   FALSE      FALSE "
   ]
  },
  {
   "cell_type": "code",
   "execution_count": 8,
   "id": "4232ea57",
   "metadata": {},
   "outputs": [
    {
     "name": "stdout",
     "output_type": "stream",
     "text": [
      "A\tB\tA or B\n",
      "True\tTrue\tTrue\n",
      "True\tFalse\tTrue\n",
      "False\tTrue\tTrue\n",
      "False\tFalse\tFalse\n",
      "----------------------------\n",
      "c\tnot c\n",
      "True\tFalse\n",
      "False\tTrue\n"
     ]
    }
   ],
   "source": [
    "# 3) b) OR truth table\n",
    "A = [True,True,False,False]\n",
    "B = [True,False,True,False]\n",
    "print(\"A\",\"B\", \"A or B\" , sep =\"\\t\")\n",
    "for i in range(len(A)):\n",
    "    print(A[i],B[i],A[i] or B[i],sep = \"\\t\")\n",
    "\n",
    "print(\"----------------------------\")    \n",
    "# NOT table\n",
    "C = [True, False]\n",
    "print(\"c\", \"not c\",sep = \"\\t\")\n",
    "for i in range(len(C)):\n",
    "    print(C[i],not(C[i]),sep = \"\\t\")"
   ]
  },
  {
   "cell_type": "code",
   "execution_count": 14,
   "id": "07577d8b",
   "metadata": {},
   "outputs": [
    {
     "name": "stdout",
     "output_type": "stream",
     "text": [
      "False\n",
      "False\n",
      "True\n",
      "False\n",
      "False\n",
      "True\n"
     ]
    }
   ],
   "source": [
    "# 4)\n",
    "print((5>4) and (3==5))\n",
    "print(not(5>4))\n",
    "print((5>4) or (3==5))\n",
    "print(not((5>4) or (3==5)))\n",
    "print((True and True) and (True == False))\n",
    "print((not False) or (not True))"
   ]
  },
  {
   "cell_type": "raw",
   "id": "3c2398fc",
   "metadata": {},
   "source": [
    "5) #comparison operators\n",
    "\n",
    "1)greater than (>)\n",
    "2)less than (<)\n",
    "3)equal to (==)\n",
    "4)not equal to (!=)\n",
    "5)less than or equal to (<=)\n",
    "6)greater than equal to (>=)"
   ]
  },
  {
   "cell_type": "raw",
   "id": "6bad6645",
   "metadata": {},
   "source": [
    "6)\n",
    "\"=\" is assignment operators , it assigns the value to the variable\n",
    "\"==\" is equal operator , it checks the condition between the operands, returns \"True\" if condition is true , else returns \"False\"."
   ]
  },
  {
   "cell_type": "code",
   "execution_count": 15,
   "id": "923bcb45",
   "metadata": {},
   "outputs": [
    {
     "name": "stdout",
     "output_type": "stream",
     "text": [
      "spam\n"
     ]
    }
   ],
   "source": [
    "#7)\n",
    "spam = 0\n",
    "if spam == 10:          # if block\n",
    "    print(\"eggs\")\n",
    "    if spam > 5 :       #nested if block\n",
    "        print(\"bacon\")\n",
    "    else:               #else block\n",
    "        print(\"ham\")\n",
    "    print(\"spam\")\n",
    "print(\"spam\")"
   ]
  },
  {
   "cell_type": "code",
   "execution_count": 16,
   "id": "4c820023",
   "metadata": {},
   "outputs": [
    {
     "name": "stdout",
     "output_type": "stream",
     "text": [
      "Greetings!\n",
      "Hello\n",
      "Howdy\n"
     ]
    }
   ],
   "source": [
    "#8)\n",
    "spam = 0\n",
    "while spam < 3:\n",
    "    if spam == 1:\n",
    "        print(\"Hello\")\n",
    "    elif spam == 2:\n",
    "        print(\"Howdy\")\n",
    "    else:\n",
    "        print(\"Greetings!\")\n",
    "    spam = spam +1\n",
    "    "
   ]
  },
  {
   "cell_type": "code",
   "execution_count": 17,
   "id": "5028f08d",
   "metadata": {},
   "outputs": [],
   "source": [
    "# 9) ctrl + c"
   ]
  },
  {
   "cell_type": "code",
   "execution_count": 18,
   "id": "e9ec3486",
   "metadata": {},
   "outputs": [],
   "source": [
    "#10)\n",
    "# difference b/w break and continue\n",
    "\n",
    "#break : It terminates the execution of the current loop and passes the control over the next loop.\n",
    "#continue : It terminates the current iteration of the loop and executes the next iteration in the loop."
   ]
  },
  {
   "cell_type": "code",
   "execution_count": 22,
   "id": "fae25e89",
   "metadata": {},
   "outputs": [
    {
     "name": "stdout",
     "output_type": "stream",
     "text": [
      "0 1 2 3 4 5 6 7 8 9 \n",
      "\n",
      "0 1 2 3 4 5 6 7 8 9 \n",
      "\n",
      "0 1 2 3 4 5 6 7 8 9 "
     ]
    }
   ],
   "source": [
    "#11)\n",
    "for i in range(10):\n",
    "    print(i,end  = \" \")\n",
    "print(\"\\n\")\n",
    "for j in range(0,10):\n",
    "    print(j, end = \" \")\n",
    "print(\"\\n\")\n",
    "for k in range(0,10,1):\n",
    "    print(k, end = \" \")"
   ]
  },
  {
   "cell_type": "code",
   "execution_count": 24,
   "id": "af56226a",
   "metadata": {},
   "outputs": [
    {
     "name": "stdout",
     "output_type": "stream",
     "text": [
      "1 2 3 4 5 6 7 8 9 10 \n",
      "\n",
      "1 2 3 4 5 6 7 8 9 10 "
     ]
    }
   ],
   "source": [
    "#12)\n",
    "# printing numbers 1 to 10\n",
    "\n",
    "# using for loop\n",
    "for i in range(1,11):\n",
    "    print(i, end = \" \")\n",
    "\n",
    "print(\"\\n\")\n",
    "    \n",
    "#using while loop\n",
    "number = 1\n",
    "while number < 11:\n",
    "    print(number, end= \" \" )\n",
    "    number = number +1"
   ]
  },
  {
   "cell_type": "code",
   "execution_count": 25,
   "id": "f090a205",
   "metadata": {},
   "outputs": [],
   "source": [
    "# 14)\n",
    "\n",
    "#import spam\n",
    "#spam.bacon()"
   ]
  }
 ],
 "metadata": {
  "kernelspec": {
   "display_name": "Python 3",
   "language": "python",
   "name": "python3"
  },
  "language_info": {
   "codemirror_mode": {
    "name": "ipython",
    "version": 3
   },
   "file_extension": ".py",
   "mimetype": "text/x-python",
   "name": "python",
   "nbconvert_exporter": "python",
   "pygments_lexer": "ipython3",
   "version": "3.8.8"
  }
 },
 "nbformat": 4,
 "nbformat_minor": 5
}
