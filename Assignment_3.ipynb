{
 "cells": [
  {
   "cell_type": "code",
   "execution_count": null,
   "id": "26b5fc86",
   "metadata": {},
   "outputs": [],
   "source": [
    "#1) Advantages of functions:\n",
    "\n",
    "#a)reusability of code \n",
    "#b)reducing duplication of code\n",
    "#c)modularity\n",
    "#d)reduces the size of code"
   ]
  },
  {
   "cell_type": "code",
   "execution_count": null,
   "id": "1f9beecf",
   "metadata": {},
   "outputs": [],
   "source": [
    "# 2) a  code in a function run only when its called.  "
   ]
  },
  {
   "cell_type": "code",
   "execution_count": null,
   "id": "738af0f0",
   "metadata": {},
   "outputs": [],
   "source": [
    "# 3) \" def \" statement followed by function_name creates the function.\n",
    "def function_name():\n",
    "    pass"
   ]
  },
  {
   "cell_type": "code",
   "execution_count": 1,
   "id": "d377ae28",
   "metadata": {},
   "outputs": [],
   "source": [
    "# 4) difference b/w a function and function call\n",
    "\n",
    "# a function is a block of code , which performs the task and return the result.\n",
    "\n",
    "def function_name():\n",
    "    pass            # function block\n",
    "\n",
    "# whereas the function call is , using that function to do particular task at any point in program, only when its called.\n",
    "\n",
    "function_name()     # function call"
   ]
  },
  {
   "cell_type": "code",
   "execution_count": null,
   "id": "a4011980",
   "metadata": {},
   "outputs": [],
   "source": [
    "# 5) \n",
    "# There can be only one global scope and many local scopes "
   ]
  },
  {
   "cell_type": "code",
   "execution_count": null,
   "id": "5b064f9b",
   "metadata": {},
   "outputs": [],
   "source": [
    "# 6) local variables are destroyed , after the execution of function "
   ]
  },
  {
   "cell_type": "code",
   "execution_count": null,
   "id": "6532f7b4",
   "metadata": {},
   "outputs": [],
   "source": [
    "#7)\n",
    "#A return is a value that a function returns to the calling script or function when it completes its task.\n",
    "#yes , it is possible to have a return value in an expression."
   ]
  },
  {
   "cell_type": "code",
   "execution_count": null,
   "id": "3dbb87b8",
   "metadata": {},
   "outputs": [],
   "source": [
    "#8) What is the return value of a call to a function that does not have a return statement?\n",
    "\n",
    "#None will be returned , if there is no return statement"
   ]
  },
  {
   "cell_type": "code",
   "execution_count": 2,
   "id": "e3380838",
   "metadata": {},
   "outputs": [
    {
     "name": "stdout",
     "output_type": "stream",
     "text": [
      "10\n"
     ]
    }
   ],
   "source": [
    "# 9) How do you make a function variable refer to the global variable?\n",
    "def func():\n",
    "    global a \n",
    "    a =10\n",
    "\n",
    "func()\n",
    "print(a)"
   ]
  },
  {
   "cell_type": "code",
   "execution_count": null,
   "id": "22b14a26",
   "metadata": {},
   "outputs": [],
   "source": [
    "# 10) data type of none?\n",
    "# Nonetype"
   ]
  },
  {
   "cell_type": "code",
   "execution_count": null,
   "id": "e4fa8db1",
   "metadata": {},
   "outputs": [],
   "source": [
    "# 11) What does the sentence import areallyourpetsnamederic do?\n",
    "\n",
    "#It will import the areallyourpetsnamederic.py in the respective directory and all the functions inside it can be accessed \n",
    "#through \" module_name.function_name() \" .  "
   ]
  },
  {
   "cell_type": "code",
   "execution_count": null,
   "id": "03a227d3",
   "metadata": {},
   "outputs": [],
   "source": [
    "# 12) If you had a bacon() feature in a spam module, what would you call it after importing spam?\n",
    "\n",
    "import spam\n",
    "spam.bacon()"
   ]
  },
  {
   "cell_type": "code",
   "execution_count": null,
   "id": "cd3a3596",
   "metadata": {},
   "outputs": [],
   "source": [
    "# 13)What can you do to save a programme from crashing if it encounters an error?\n",
    "\n",
    "#using try except block"
   ]
  },
  {
   "cell_type": "code",
   "execution_count": null,
   "id": "a3257620",
   "metadata": {},
   "outputs": [],
   "source": [
    "# 14)What is the purpose of the try clause? What is the purpose of the except clause?\n",
    "\n",
    "#In the try block , we should write the suspicious code. If try block fails , it can be handled by except block.\n",
    "#except block saves from crashing the entire program."
   ]
  }
 ],
 "metadata": {
  "kernelspec": {
   "display_name": "Python 3",
   "language": "python",
   "name": "python3"
  },
  "language_info": {
   "codemirror_mode": {
    "name": "ipython",
    "version": 3
   },
   "file_extension": ".py",
   "mimetype": "text/x-python",
   "name": "python",
   "nbconvert_exporter": "python",
   "pygments_lexer": "ipython3",
   "version": "3.8.8"
  }
 },
 "nbformat": 4,
 "nbformat_minor": 5
}
