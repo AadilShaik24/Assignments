{
 "cells": [
  {
   "cell_type": "code",
   "execution_count": 2,
   "id": "9574fff9",
   "metadata": {},
   "outputs": [],
   "source": [
    "#1)What is the name of the feature responsible for generating Regex objects?\n",
    "#import re\n",
    "#re.compile(pattern)"
   ]
  },
  {
   "cell_type": "code",
   "execution_count": null,
   "id": "8175095c",
   "metadata": {},
   "outputs": [],
   "source": [
    "#2)Why do raw strings often appear in Regex objects?\n",
    "\n",
    "# raw strings are used when , \"\\\" (backslash) is not to be escaped."
   ]
  },
  {
   "cell_type": "code",
   "execution_count": null,
   "id": "263cab4e",
   "metadata": {},
   "outputs": [],
   "source": [
    "#3) What is the return value of the search() method?\n",
    "\n",
    "#re.search(pattern,string) , it scans through the string looking for match to the pattern, returns the match object if it\n",
    "# it exists or  else return None."
   ]
  },
  {
   "cell_type": "code",
   "execution_count": null,
   "id": "df0dcf09",
   "metadata": {},
   "outputs": [],
   "source": [
    "#4) From a Match item, how do you get the actual strings that match the pattern?\n",
    "\n",
    "#using group()"
   ]
  },
  {
   "cell_type": "code",
   "execution_count": null,
   "id": "1a9b1131",
   "metadata": {},
   "outputs": [],
   "source": [
    "#5)  In the regex which created from the r'(\\d\\d\\d)-(\\d\\d\\d-\\d\\d\\d\\d)', what does group zero cover? Group 2? Group 1?\n",
    "\n",
    "#group 0 -- (\\d\\d\\d)-(\\d\\d\\d-\\d\\d\\d\\d) complete match\n",
    "#group 1 -- (\\d\\d\\d)   #first parenthesis\n",
    "#group 2 --- (\\d\\d\\d-\\d\\d\\d\\d)  # second parenthesis"
   ]
  },
  {
   "cell_type": "code",
   "execution_count": null,
   "id": "4854a640",
   "metadata": {},
   "outputs": [],
   "source": [
    "#6) In standard expression syntax, parentheses and intervals have distinct meanings.How can you tell a regex that you \n",
    "#want it to fit real parentheses and periods?\n",
    "\n",
    "# using backslash \n",
    "#eg: \\(, \\), \\."
   ]
  },
  {
   "cell_type": "code",
   "execution_count": null,
   "id": "0c9a70d6",
   "metadata": {},
   "outputs": [],
   "source": [
    "#7) The findall() method returns a string list or a list of string tuples. What causes it to return one of the two options?\n",
    "\n",
    "#If the regex has no groups, a list of strings is returned.If the regex has groups, a list of tuples of strings is returned."
   ]
  },
  {
   "cell_type": "code",
   "execution_count": null,
   "id": "a9b02a19",
   "metadata": {},
   "outputs": [],
   "source": [
    "#8)  In standard expressions, what does the | character mean?\n",
    "\n",
    "# matching 'either', or between groups"
   ]
  },
  {
   "cell_type": "code",
   "execution_count": null,
   "id": "d1ad6959",
   "metadata": {},
   "outputs": [],
   "source": [
    "#9) In regular expressions, what does the character stand for?\n",
    "\n",
    "#matching zero or one match of the expresion"
   ]
  },
  {
   "cell_type": "code",
   "execution_count": null,
   "id": "be3f0ceb",
   "metadata": {},
   "outputs": [],
   "source": [
    "#10) In regular expressions, what is the difference between the + and * characters?\n",
    "\n",
    "# \"+\" matches with one or more match of the expression.\n",
    "# \"*\" matches with zero or more match of the expression."
   ]
  },
  {
   "cell_type": "code",
   "execution_count": null,
   "id": "8d5a8001",
   "metadata": {},
   "outputs": [],
   "source": [
    "#11)What is the difference between {4} and {4,5} in regular expression?\n",
    "\n",
    "#  {4} -- matches 4 instances of a group\n",
    "#  {4,5} -- matches between 4 and 5 instances"
   ]
  },
  {
   "cell_type": "code",
   "execution_count": null,
   "id": "6cf1797f",
   "metadata": {},
   "outputs": [],
   "source": [
    "#12)  What do you mean by the \\d, \\w, and \\s shorthand character classes signify in regular expressions?\n",
    "# \\d -- matches with a digit(0-9)\n",
    "# \\w -- matches with a letter (alphanumeric)\n",
    "# \\s -- matches with white space character"
   ]
  },
  {
   "cell_type": "code",
   "execution_count": null,
   "id": "0249b6f6",
   "metadata": {},
   "outputs": [],
   "source": [
    "#13) What do you mean by \\D, \\W, and \\S shorthand character classes signify in regular expressions?\n",
    "# \\D -- matches with other than digit.\n",
    "# \\W -- matches with other alphanumeric\n",
    "# \\S --  matches with other than whitespace characters"
   ]
  },
  {
   "cell_type": "code",
   "execution_count": null,
   "id": "f37179f4",
   "metadata": {},
   "outputs": [],
   "source": [
    "#14) What is the difference between .*? and .*?\n",
    "# . -- indicates a greedy match (any charcter)\n",
    "# .*? -- indicates other than greedy match"
   ]
  },
  {
   "cell_type": "code",
   "execution_count": null,
   "id": "f84c0fd0",
   "metadata": {},
   "outputs": [],
   "source": [
    "#15) What is the syntax for matching both numbers and lowercase letters with a character class?\n",
    "\n",
    "# \"[a-z0-9]*\""
   ]
  },
  {
   "cell_type": "code",
   "execution_count": 2,
   "id": "fd2744e0",
   "metadata": {},
   "outputs": [
    {
     "name": "stdout",
     "output_type": "stream",
     "text": [
      "<re.Match object; span=(0, 6), match='PYTHOn'>\n"
     ]
    }
   ],
   "source": [
    "#16) What is the procedure for making a normal expression in regax case insensitive?\n",
    "\n",
    "import re\n",
    "print(re.search(r'python', 'PYTHOn is easy', re.IGNORECASE))"
   ]
  },
  {
   "cell_type": "code",
   "execution_count": null,
   "id": "957f92c8",
   "metadata": {},
   "outputs": [],
   "source": [
    "#17) What does the . character normally match? What does it match if re.DOTALL is passed as 2nd argument in re.compile()?\n",
    "\n",
    "# . matches with any character except newline character , whereas re.DOTBALL matches any character even new line charcter."
   ]
  },
  {
   "cell_type": "code",
   "execution_count": null,
   "id": "4dd53580",
   "metadata": {},
   "outputs": [],
   "source": [
    "#18) If numReg = re.compile(r'\\d+'), what will numRegex.sub('X', '11 drummers, 10 pipers, five rings, 4 hen') return?\n",
    "\n",
    "# 'X drummers, X pipers, five rings, X hen'      (it replaces every digit with \"x\" )"
   ]
  },
  {
   "cell_type": "code",
   "execution_count": null,
   "id": "f8f51d4c",
   "metadata": {},
   "outputs": [],
   "source": [
    "#19) What does passing re.VERBOSE as the 2nd argument to re.compile() allow to do?\n",
    "\n",
    "# re.VERBOSE allows you to write comments with in regex"
   ]
  },
  {
   "cell_type": "code",
   "execution_count": 20,
   "id": "b7f1dfdb",
   "metadata": {},
   "outputs": [
    {
     "name": "stdout",
     "output_type": "stream",
     "text": [
      "<re.Match object; span=(0, 9), match='6,368,745'>\n",
      "<re.Match object; span=(0, 5), match='1,234'>\n",
      "None\n",
      "<re.Match object; span=(0, 2), match='42'>\n",
      "None\n"
     ]
    }
   ],
   "source": [
    "#20) How would you write a regex that match a number with comma for every three digits? It must match the given following:\n",
    "#'42'\n",
    "#'1,234'\n",
    "#'6,368,745'\n",
    "#but not the following:\n",
    "#'12,34,567' (which has only two digits between the commas)\n",
    "#'1234' (which lacks commas)\n",
    "\n",
    "import re\n",
    "print(re.search(r\"^\\d{1,3}(,\\d{3})*$\",\"6,368,745\"))\n",
    "print(re.search(r\"^\\d{1,3}(,\\d{3})*$\",\"1,234\"))\n",
    "print(re.search(r\"^\\d{1,3}(,\\d{3})*$\",\"12,34,567\"))\n",
    "print(re.search(r\"^\\d{1,3}(,\\d{3})*$\",\"42\"))\n",
    "print(re.search(r\"^\\d{1,3}(,\\d{3})*$\",\"1234\"))"
   ]
  },
  {
   "cell_type": "code",
   "execution_count": 27,
   "id": "299e77cc",
   "metadata": {},
   "outputs": [
    {
     "name": "stdout",
     "output_type": "stream",
     "text": [
      "<re.Match object; span=(0, 15), match='Haruto Watanabe'>\n",
      "None\n",
      "<re.Match object; span=(0, 14), match='Alice Watanabe'>\n",
      "<re.Match object; span=(0, 16), match='RoboCop Watanabe'>\n",
      "None\n",
      "None\n",
      "None\n"
     ]
    }
   ],
   "source": [
    "#21) How would you write a regex that matches the full name of someone whose last name is Watanabe? You can assume that \n",
    "#the first name that comes before it will always be one word that begins with a capital letter. The regex must match \n",
    "#the following:\n",
    "\n",
    "print(re.search(r\"^[A-Z][a-zA-Z]*\\s{1}Watanabe\",\"Haruto Watanabe\"))\n",
    "print(re.search(r\"^[A-Z][a-zA-Z]*\\s{1}Watanabe\",\"Haruto watanabe\"))\n",
    "print(re.search(r\"^[A-Z][a-zA-Z]*\\s{1}Watanabe\",\"Alice Watanabe\"))\n",
    "print(re.search(r\"^[A-Z][a-zA-Z]*\\s{1}Watanabe\",\"RoboCop Watanabe\"))\n",
    "print(re.search(r\"^[A-Z][a-zA-Z]*\\s{1}Watanabe\",\"Mr. Watanabe\"))\n",
    "print(re.search(r\"^[A-Z][a-zA-Z]*\\s{1}Watanabe\",\"Watanabe\"))\n",
    "print(re.search(r\"^[A-Z][a-zA-Z]*\\s{1}Watanabe\",\"haruto Watanabe\"))"
   ]
  },
  {
   "cell_type": "code",
   "execution_count": 43,
   "id": "c2b4b821",
   "metadata": {},
   "outputs": [
    {
     "name": "stdout",
     "output_type": "stream",
     "text": [
      "<re.Match object; span=(0, 18), match='Alice eats apples.'>\n",
      "<re.Match object; span=(0, 14), match='Bob pets cats.'>\n",
      "<re.Match object; span=(0, 23), match='Carol throws baseballs.'>\n",
      "<re.Match object; span=(0, 20), match='Alice throws Apples.'>\n",
      "<re.Match object; span=(0, 14), match='BOB EATS CATS.'>\n",
      "None\n",
      "None\n",
      "None\n"
     ]
    }
   ],
   "source": [
    "#22)  How would you write a regex that matches a sentence where the first word is either Alice, Bob, or Carol; the second \n",
    "#word is either eats, pets, or throws; the third word is apples, cats, or baseballs; and the sentence ends with a period? \n",
    "#This regex should be case-insensitive. It must match the following:\n",
    "\n",
    "print(re.search(r\"^(Alice|Bob|Carol)\\s(eats|pets|throws)\\s(apples|cats|baseballs)\\.\",\"Alice eats apples.\",re.IGNORECASE))\n",
    "print(re.search(r\"^(Alice|Bob|Carol)\\s(eats|pets|throws)\\s(apples|cats|baseballs)\\.\",\"Bob pets cats.\",re.IGNORECASE))\n",
    "print(re.search(r\"^(Alice|Bob|Carol)\\s(eats|pets|throws)\\s(apples|cats|baseballs)\\.\",\"Carol throws baseballs.\",re.IGNORECASE))\n",
    "print(re.search(r\"^(Alice|Bob|Carol)\\s(eats|pets|throws)\\s(apples|cats|baseballs)\\.\",\"Alice throws Apples.\",re.IGNORECASE))\n",
    "print(re.search(r\"^(Alice|Bob|Carol)\\s(eats|pets|throws)\\s(apples|cats|baseballs)\\.\",\"BOB EATS CATS.\",re.IGNORECASE))\n",
    "print(re.search(r\"^(Alice|Bob|Carol)\\s(eats|pets|throws)\\s(apples|cats|baseballs)\\.\",\"RoboCop eats apples.\",re.IGNORECASE))\n",
    "print(re.search(r\"^(Alice|Bob|Carol)\\s(eats|pets|throws)\\s(apples|cats|baseballs)\\.\",\"ALICE THROWS FOOTBALLS.\",re.IGNORECASE))\n",
    "print(re.search(r\"^(Alice|Bob|Carol)\\s(eats|pets|throws)\\s(apples|cats|baseballs)\\.\",\"Carol eats 7 cats.\",re.IGNORECASE))"
   ]
  }
 ],
 "metadata": {
  "kernelspec": {
   "display_name": "Python 3",
   "language": "python",
   "name": "python3"
  },
  "language_info": {
   "codemirror_mode": {
    "name": "ipython",
    "version": 3
   },
   "file_extension": ".py",
   "mimetype": "text/x-python",
   "name": "python",
   "nbconvert_exporter": "python",
   "pygments_lexer": "ipython3",
   "version": "3.8.8"
  }
 },
 "nbformat": 4,
 "nbformat_minor": 5
}
