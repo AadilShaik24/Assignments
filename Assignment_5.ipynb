{
 "cells": [
  {
   "cell_type": "code",
   "execution_count": 2,
   "id": "abe99e59",
   "metadata": {
    "scrolled": true
   },
   "outputs": [
    {
     "name": "stdout",
     "output_type": "stream",
     "text": [
      "{}\n"
     ]
    }
   ],
   "source": [
    "#1) What does an empty dictionary's code look like?\n",
    "dictionary = {}\n",
    "print(dictionary)"
   ]
  },
  {
   "cell_type": "code",
   "execution_count": 8,
   "id": "d2d8b97b",
   "metadata": {},
   "outputs": [
    {
     "data": {
      "text/plain": [
       "dict_values([42])"
      ]
     },
     "execution_count": 8,
     "metadata": {},
     "output_type": "execute_result"
    }
   ],
   "source": [
    "#2) What is the value of a dictionary value with the key 'foo' and the value 42?\n",
    "\n",
    "dict1  = {\"foo\":42}\n",
    "dict1.values()"
   ]
  },
  {
   "cell_type": "code",
   "execution_count": null,
   "id": "af7da910",
   "metadata": {},
   "outputs": [],
   "source": [
    "#3) What is the most significant distinction between a dictionary and a list?\n",
    "\n",
    "#dictionary is unordered and subscripted by its key.\n",
    "#list is ordered and subscripted by its index."
   ]
  },
  {
   "cell_type": "code",
   "execution_count": 14,
   "id": "ad99822d",
   "metadata": {},
   "outputs": [
    {
     "ename": "KeyError",
     "evalue": "'foo'",
     "output_type": "error",
     "traceback": [
      "\u001b[1;31m---------------------------------------------------------------------------\u001b[0m",
      "\u001b[1;31mKeyError\u001b[0m                                  Traceback (most recent call last)",
      "\u001b[1;32m<ipython-input-14-3885dfbb8b6d>\u001b[0m in \u001b[0;36m<module>\u001b[1;34m\u001b[0m\n\u001b[0;32m      1\u001b[0m \u001b[1;31m#4)\u001b[0m\u001b[1;33m\u001b[0m\u001b[1;33m\u001b[0m\u001b[1;33m\u001b[0m\u001b[0m\n\u001b[0;32m      2\u001b[0m \u001b[0mspam\u001b[0m \u001b[1;33m=\u001b[0m \u001b[1;33m{\u001b[0m\u001b[1;34m\"bar\"\u001b[0m\u001b[1;33m:\u001b[0m\u001b[1;36m100\u001b[0m\u001b[1;33m}\u001b[0m\u001b[1;33m\u001b[0m\u001b[1;33m\u001b[0m\u001b[0m\n\u001b[1;32m----> 3\u001b[1;33m \u001b[0mspam\u001b[0m\u001b[1;33m[\u001b[0m\u001b[1;34m\"foo\"\u001b[0m\u001b[1;33m]\u001b[0m\u001b[1;33m\u001b[0m\u001b[1;33m\u001b[0m\u001b[0m\n\u001b[0m\u001b[0;32m      4\u001b[0m \u001b[1;31m# it gives key error , as there is no key named \"foo\"\u001b[0m\u001b[1;33m\u001b[0m\u001b[1;33m\u001b[0m\u001b[1;33m\u001b[0m\u001b[0m\n",
      "\u001b[1;31mKeyError\u001b[0m: 'foo'"
     ]
    }
   ],
   "source": [
    "#4)\n",
    "spam = {\"bar\":100}\n",
    "spam[\"foo\"]\n",
    "# it gives key error , as there is no key named \"foo\""
   ]
  },
  {
   "cell_type": "code",
   "execution_count": null,
   "id": "4a9134f8",
   "metadata": {},
   "outputs": [],
   "source": [
    "#5)  If a dictionary is stored in spam, what is the difference between the expressions 'cat' in spam and 'cat' in \n",
    "#  spam.keys()?\n",
    "\n",
    "# \"cat\" in spam checks ,that whether is there any key named \"cat\" in  dictionary. \"cat\" in spam.keys() is also does the\n",
    "# same thing , checks that there any key named \"cat\" in  dictionary."
   ]
  },
  {
   "cell_type": "code",
   "execution_count": null,
   "id": "3b0bac4a",
   "metadata": {},
   "outputs": [],
   "source": [
    "#6) If a dictionary is stored in spam, what is the difference between the expressions 'cat' in spam and 'cat' in spam.values()?\n",
    "\n",
    "#\"cat\" in spam.values() , checks that there any value named \"cat\" in  dictionary."
   ]
  },
  {
   "cell_type": "code",
   "execution_count": null,
   "id": "cdd224ca",
   "metadata": {},
   "outputs": [],
   "source": [
    "#7)\n",
    "spam[\"color\"] = \"black\""
   ]
  },
  {
   "cell_type": "code",
   "execution_count": 15,
   "id": "a618b019",
   "metadata": {},
   "outputs": [],
   "source": [
    "#8) How do you \"pretty print\" dictionary values using which module and function?\n",
    "\n",
    "import pprint\n",
    "pprint.pprint()"
   ]
  }
 ],
 "metadata": {
  "kernelspec": {
   "display_name": "Python 3",
   "language": "python",
   "name": "python3"
  },
  "language_info": {
   "codemirror_mode": {
    "name": "ipython",
    "version": 3
   },
   "file_extension": ".py",
   "mimetype": "text/x-python",
   "name": "python",
   "nbconvert_exporter": "python",
   "pygments_lexer": "ipython3",
   "version": "3.8.8"
  }
 },
 "nbformat": 4,
 "nbformat_minor": 5
}
