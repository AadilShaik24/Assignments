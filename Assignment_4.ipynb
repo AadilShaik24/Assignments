{
 "cells": [
  {
   "cell_type": "code",
   "execution_count": null,
   "id": "171e1156",
   "metadata": {},
   "outputs": [],
   "source": [
    "#1) What exactly is []?\n",
    "\n",
    "#[] is a list , it can take heterogeneous data. list is iterable and mutable entity.\n",
    "# ex: l =  [1,45,\"sghs\",[2,78.1,\"ksks\"],True]"
   ]
  },
  {
   "cell_type": "code",
   "execution_count": 2,
   "id": "edf272c0",
   "metadata": {},
   "outputs": [
    {
     "name": "stdout",
     "output_type": "stream",
     "text": [
      "[2, 4, 'hello', 8, 10]\n"
     ]
    }
   ],
   "source": [
    "# 2) In a list of values stored in a variable called spam, how would you assign the value 'hello' as the third value?\n",
    "#(Assume [2, 4, 6, 8, 10] are in spam.)\n",
    "\n",
    "spam = [2, 4, 6, 8, 10]\n",
    "spam[2] = \"hello\"\n",
    "print(spam)\n"
   ]
  },
  {
   "cell_type": "code",
   "execution_count": 5,
   "id": "e188d709",
   "metadata": {},
   "outputs": [
    {
     "name": "stdout",
     "output_type": "stream",
     "text": [
      "d\n",
      "d\n",
      "['a', 'b']\n"
     ]
    }
   ],
   "source": [
    "spam = [\"a\",\"b\",\"c\",\"d\"]\n",
    "# 3) \n",
    "print(spam[int(int('3' * 2) / 11)])\n",
    "# 4)\n",
    "print(spam[-1])\n",
    "#5)\n",
    "print(spam[:2])\n"
   ]
  },
  {
   "cell_type": "code",
   "execution_count": 9,
   "id": "d42c5953",
   "metadata": {},
   "outputs": [
    {
     "name": "stdout",
     "output_type": "stream",
     "text": [
      "1\n",
      "[3.14, 'cat', 11, 'cat', True, 99]\n",
      "[3.14, 11, 'cat', True, 99]\n"
     ]
    }
   ],
   "source": [
    "bacon = [3.14,'cat',11, 'cat', True]\n",
    "#6)\n",
    "print(bacon.index(\"cat\"))\n",
    "# 7)\n",
    "bacon.append(99)\n",
    "print(bacon)\n",
    "#8)\n",
    "bacon.remove(\"cat\")\n",
    "print(bacon)"
   ]
  },
  {
   "cell_type": "code",
   "execution_count": 10,
   "id": "6f8e029f",
   "metadata": {},
   "outputs": [
    {
     "name": "stdout",
     "output_type": "stream",
     "text": [
      "[1, 33, 4, 'skk', 3.4, 67]\n"
     ]
    },
    {
     "data": {
      "text/plain": [
       "[1, 33, 4, 1, 33, 4, 1, 33, 4]"
      ]
     },
     "execution_count": 10,
     "metadata": {},
     "output_type": "execute_result"
    }
   ],
   "source": [
    "#9) \"+\" is used for list concatenation\n",
    "\n",
    "l= [1,33,4]+[\"skk\",3.4,67]\n",
    "print(l)\n",
    "\n",
    "#  \"*\" is used for list replication\n",
    "\n",
    "[1,33,4] * 3"
   ]
  },
  {
   "cell_type": "code",
   "execution_count": null,
   "id": "5f94b435",
   "metadata": {},
   "outputs": [],
   "source": [
    "#10) What is difference between the list methods append() and insert()?\n",
    "\n",
    "#append() -- append inserts the element at the end of the list(last index).\n",
    "#insert() --- it inserts the element at particular index. "
   ]
  },
  {
   "cell_type": "code",
   "execution_count": null,
   "id": "a75c3682",
   "metadata": {},
   "outputs": [],
   "source": [
    "#11) two methods of removing element from the list\n",
    "\n",
    "#a) remove() -- it removes the first occurence of the particular value.\n",
    "#b)pop() --- it defaultely removes the last value in the list, if list index is not mentioned."
   ]
  },
  {
   "cell_type": "code",
   "execution_count": null,
   "id": "f5e642b5",
   "metadata": {},
   "outputs": [],
   "source": [
    "#12)Describe how list values and string values are identical?\n",
    "\n",
    "#a)both string and list values are subscriptable i.e can take other objects(data types).\n",
    "#b)slicing is possible in both."
   ]
  },
  {
   "cell_type": "code",
   "execution_count": null,
   "id": "c84438a4",
   "metadata": {},
   "outputs": [],
   "source": [
    "#13)diff b/w list and tuples?\n",
    "\n",
    "#the major difference b/w list and tuple is that , list is mutable entity and tuple is immutable entity."
   ]
  },
  {
   "cell_type": "code",
   "execution_count": 26,
   "id": "a06a8ecd",
   "metadata": {},
   "outputs": [
    {
     "name": "stdout",
     "output_type": "stream",
     "text": [
      "<class 'int'>\n",
      "<class 'tuple'>\n"
     ]
    }
   ],
   "source": [
    "#14)How do you type a tuple value that only contains the integer 42?\n",
    "\n",
    "t = (42)\n",
    "print(type(t))\n",
    "t1 =(42,)        #if comma is not mentioned , then it treat as int value.\n",
    "print(type(t1))"
   ]
  },
  {
   "cell_type": "code",
   "execution_count": 2,
   "id": "fbc1a282",
   "metadata": {},
   "outputs": [
    {
     "name": "stdout",
     "output_type": "stream",
     "text": [
      "(12, 35, 5)\n",
      "[2, 44, 55, 6]\n"
     ]
    }
   ],
   "source": [
    "#15)How do you get a list value's tuple form? How do you get a tuple value's list form?\n",
    "\n",
    "l= [12,35,5]\n",
    "print(tuple(l))\n",
    "\n",
    "t= (2,44,55,6)\n",
    "print(list(t))\n"
   ]
  },
  {
   "cell_type": "code",
   "execution_count": null,
   "id": "fe7fc45c",
   "metadata": {},
   "outputs": [],
   "source": [
    "#16)Variables that \"contain\" list values are not necessarily lists themselves. Instead, what do they contain?\n",
    "\n",
    "#it references to list values."
   ]
  },
  {
   "cell_type": "code",
   "execution_count": null,
   "id": "44aa70b2",
   "metadata": {},
   "outputs": [],
   "source": [
    "#17)How do you distinguish between copy.copy() and copy.deepcopy()?\n",
    "\n",
    "#copy.deepcopy() --- It means that any changes made to a copy of object do not reflect in the original object. \n",
    "#In python, this is implemented using “deepcopy()” function.\n",
    "\n",
    "#copy.copy() ----- In case of shallow copy, a reference of object is copied in other object. It means that any changes\n",
    "#made to a copy of object do reflect in the original object. In python, this is implemented using “copy()” function.\n"
   ]
  }
 ],
 "metadata": {
  "kernelspec": {
   "display_name": "Python 3",
   "language": "python",
   "name": "python3"
  },
  "language_info": {
   "codemirror_mode": {
    "name": "ipython",
    "version": 3
   },
   "file_extension": ".py",
   "mimetype": "text/x-python",
   "name": "python",
   "nbconvert_exporter": "python",
   "pygments_lexer": "ipython3",
   "version": "3.8.8"
  }
 },
 "nbformat": 4,
 "nbformat_minor": 5
}
