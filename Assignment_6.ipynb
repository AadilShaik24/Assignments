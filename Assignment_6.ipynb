{
 "cells": [
  {
   "cell_type": "code",
   "execution_count": 7,
   "id": "37bfdbb8",
   "metadata": {},
   "outputs": [
    {
     "name": "stdout",
     "output_type": "stream",
     "text": [
      "hello\n",
      "world\n",
      "hey\twhat's up'?\n",
      "how\f",
      " are \n"
     ]
    }
   ],
   "source": [
    "#1)What are escape characters, and how do you use them?\n",
    "\n",
    "#To insert characters that are illegal in a string, we use an escape character.\n",
    "#an escape character is a backslash \\ followed by the character you want to insert.\n",
    "print(\"hello\\nworld\")\n",
    "print(\"hey\\twhat\\'s up'?\")"
   ]
  },
  {
   "cell_type": "code",
   "execution_count": null,
   "id": "01cc3431",
   "metadata": {},
   "outputs": [],
   "source": [
    "#2)What do the escape characters n and t stand for?\n",
    "\n",
    "# \\n -- new line\n",
    "# \\t -- tab"
   ]
  },
  {
   "cell_type": "code",
   "execution_count": null,
   "id": "6db532f6",
   "metadata": {},
   "outputs": [],
   "source": [
    "#3)  What is the way to include backslash characters in a string?\n",
    "\n",
    "# use \\\\ to include backslash in a string."
   ]
  },
  {
   "cell_type": "code",
   "execution_count": null,
   "id": "3bb3f03c",
   "metadata": {},
   "outputs": [],
   "source": [
    "#4)The string \"Howl's Moving Castle\" is a correct value. Why isn't the single quote character in the word Howl's not \n",
    "#escaped a problem?\n",
    "\n",
    "#because , we have used enclosed it with a double quotes."
   ]
  },
  {
   "cell_type": "code",
   "execution_count": 12,
   "id": "ff47cda8",
   "metadata": {},
   "outputs": [
    {
     "name": "stdout",
     "output_type": "stream",
     "text": [
      "hello,\n",
      "this is \n",
      "python language.\n"
     ]
    }
   ],
   "source": [
    "#5) How do you write a string of newlines if you don't want to use the n character?\n",
    "\n",
    "#using triple quotes \n",
    "print(\"\"\"hello,\n",
    "this is \n",
    "python language.\"\"\")"
   ]
  },
  {
   "cell_type": "code",
   "execution_count": 21,
   "id": "1d17fed5",
   "metadata": {},
   "outputs": [
    {
     "name": "stdout",
     "output_type": "stream",
     "text": [
      "e\n",
      "Hello\n",
      "Hello\n",
      "lo, world!\n"
     ]
    }
   ],
   "source": [
    "#6)\n",
    "#a)\n",
    "print(\"Hello, world!\"[1])\n",
    "#b)\n",
    "print(\"Hello, world!\"[0:5])\n",
    "#c)\n",
    "print(\"Hello, world!\"[:5])\n",
    "#d)\n",
    "print(\"Hello, world!\"[3:])"
   ]
  },
  {
   "cell_type": "code",
   "execution_count": 29,
   "id": "71c4c07c",
   "metadata": {},
   "outputs": [
    {
     "name": "stdout",
     "output_type": "stream",
     "text": [
      "HELLO\n",
      "True\n",
      "hello\n"
     ]
    }
   ],
   "source": [
    "#7)what are the values of the following expressions?\n",
    "\n",
    "print(\"Hello\".upper())   # converts all letters of string to upper case\n",
    "\n",
    "print(\"Hello\".upper().isupper())   # converts it to upper , then checks whether it is uppercase or not\n",
    "\n",
    "print(\"Hello\".upper().lower())   #coverting to upper and then it to lower"
   ]
  },
  {
   "cell_type": "code",
   "execution_count": 46,
   "id": "5e411ae6",
   "metadata": {},
   "outputs": [
    {
     "name": "stdout",
     "output_type": "stream",
     "text": [
      "['Remember', ',remember,', 'the', 'fifth', 'of', 'July']\n",
      "There-can-only-one\n"
     ]
    }
   ],
   "source": [
    "#8) What are the values of the following expressions?\n",
    "\n",
    "print(\"Remember ,remember, the fifth of July\".split())\n",
    "print(\"-\".join(\"There can only one\".split()))"
   ]
  },
  {
   "cell_type": "code",
   "execution_count": 55,
   "id": "3f42e645",
   "metadata": {},
   "outputs": [
    {
     "name": "stdout",
     "output_type": "stream",
     "text": [
      "python              \n",
      "              python\n",
      "       python       \n"
     ]
    }
   ],
   "source": [
    "#9)what are the methods of right-justifying,left-justifying ,centering a string?\n",
    "\n",
    "string = \"python\"\n",
    "print(string.ljust(20))\n",
    "print(string.rjust(20))\n",
    "print(string.center(20))"
   ]
  },
  {
   "cell_type": "code",
   "execution_count": 62,
   "id": "2a8a6e91",
   "metadata": {},
   "outputs": [
    {
     "name": "stdout",
     "output_type": "stream",
     "text": [
      "Hello there, How are you?     \n",
      "    Hello there, How are you?\n",
      "Hello there, How are you?\n"
     ]
    }
   ],
   "source": [
    "#10)What is the best way to remove whitespace characters from the start or end?\n",
    "\n",
    "string = \"    Hello there, How are you?     \"\n",
    "print(string.lstrip())\n",
    "print(string.rstrip())\n",
    "\n",
    "# or \n",
    "print(string.lstrip().rstrip())"
   ]
  }
 ],
 "metadata": {
  "kernelspec": {
   "display_name": "Python 3",
   "language": "python",
   "name": "python3"
  },
  "language_info": {
   "codemirror_mode": {
    "name": "ipython",
    "version": 3
   },
   "file_extension": ".py",
   "mimetype": "text/x-python",
   "name": "python",
   "nbconvert_exporter": "python",
   "pygments_lexer": "ipython3",
   "version": "3.8.8"
  }
 },
 "nbformat": 4,
 "nbformat_minor": 5
}
